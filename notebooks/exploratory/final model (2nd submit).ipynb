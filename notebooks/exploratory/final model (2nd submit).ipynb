{
 "cells": [
  {
   "cell_type": "markdown",
   "metadata": {},
   "source": [
    "# Setup"
   ]
  },
  {
   "cell_type": "code",
   "execution_count": 1,
   "metadata": {},
   "outputs": [],
   "source": [
    "from xgboost import XGBClassifier\n",
    "import numpy as np\n",
    "import pandas as pd\n",
    "import scipy\n",
    "import matplotlib.pyplot as plt\n",
    "import seaborn as sns\n",
    "sns.set_style('whitegrid')\n",
    "plt.rcParams['figure.figsize'] = [10,6]\n",
    "\n",
    "train_csv = pd.read_csv('train.csv')\n",
    "valid_csv = pd.read_csv('dev.csv')\n",
    "whole_csv = pd.concat([train_csv, valid_csv], axis=0, ignore_index=True)"
   ]
  },
  {
   "cell_type": "code",
   "execution_count": 2,
   "metadata": {},
   "outputs": [],
   "source": [
    "def preliminary_feature(data):\n",
    "    data['user_review_count'] = data.sort_values(['user_id','date']).groupby('user_id')['ex_id'].cumcount()\n",
    "    data['user_average_rating'] = data.sort_values(['user_id', 'date']).groupby('user_id')['rating'].cumsum() \\\n",
    "                                  / (data['user_review_count'] + 1)\n",
    "    data['restaurant_review_count'] = data.sort_values(['prod_id', 'date']).groupby('prod_id')['ex_id'].cumcount()\n",
    "    data['restaurant_average_rating'] = data.sort_values(['prod_id', 'date']).groupby('prod_id')['rating'].cumsum() \\\n",
    "                                        / (data['restaurant_review_count'] + 1)\n",
    "    data['wordcount'] = data['review'].str.count(\" \")\n",
    "    first_user_review = data.groupby('user_id')['date'].min()\n",
    "    data['days_since_first_user'] = (pd.to_datetime(data.set_index('user_id')['date']) \\\n",
    "                                     - pd.to_datetime(first_user_review))\\\n",
    "                                    .dt.days.reset_index(drop=True)\n",
    "    first_restaurant_review = data.groupby('prod_id')['date'].min()\n",
    "    data['days_since_first_restaurant'] = (pd.to_datetime(data.set_index('prod_id')['date']) \\\n",
    "                                           - pd.to_datetime(first_restaurant_review)) \\\n",
    "                                          .dt.days.reset_index(drop=True)\n",
    "    data['punctuation_count'] = data['review'].str.count('[,;:!.]')\n",
    "    data['capitalization_count'] = data['review'].str.count('[A-Z]+')\n",
    "    data['letter_count'] = data['review'].str.len()\n",
    "    \n",
    "    return data"
   ]
  },
  {
   "cell_type": "code",
   "execution_count": 3,
   "metadata": {},
   "outputs": [],
   "source": [
    "whole = preliminary_feature(whole_csv)"
   ]
  },
  {
   "cell_type": "code",
   "execution_count": 4,
   "metadata": {},
   "outputs": [
    {
     "name": "stdout",
     "output_type": "stream",
     "text": [
      "Original: 250874 FE: 250874\n"
     ]
    }
   ],
   "source": [
    "train = whole[:250874]\n",
    "print(\"Original:\", len(train_csv), \"FE:\", len(train))"
   ]
  },
  {
   "cell_type": "code",
   "execution_count": 5,
   "metadata": {},
   "outputs": [
    {
     "name": "stdout",
     "output_type": "stream",
     "text": [
      "Original: 35918 FE: 35918\n"
     ]
    }
   ],
   "source": [
    "valid = whole[250874:].reset_index()\n",
    "print(\"Original:\", len(valid_csv), \"FE:\", len(valid))"
   ]
  },
  {
   "cell_type": "code",
   "execution_count": 6,
   "metadata": {},
   "outputs": [],
   "source": [
    "from sklearn.metrics import precision_recall_curve, average_precision_score\n",
    "\n",
    "def plot_pr(pred, y, label, title=None):\n",
    "    precision, recall, _ = precision_recall_curve(y, pred)\n",
    "    aps = average_precision_score(y_true=y, y_score=pred)\n",
    "    \n",
    "    plt.step(recall, precision, alpha=0.2,\n",
    "             where='post',\n",
    "             label='{}: Average Precision = {:0.3f}'.format(label, aps))\n",
    "    plt.fill_between(recall, precision, step='post', alpha=0.2)\n",
    "\n",
    "    plt.xlabel('Recall')\n",
    "    plt.ylabel('Precision')\n",
    "    if title is None:\n",
    "        title = 'Precision-Recall Curve'\n",
    "    plt.title(title)\n",
    "    plt.legend(loc=\"lower right\")\n",
    "    plt.ylim([0.0, 1.05])\n",
    "    plt.xlim([0.0, 1.0])"
   ]
  },
  {
   "cell_type": "markdown",
   "metadata": {},
   "source": [
    "#### ↓ Prediction from MultinomialNB - TFIDF"
   ]
  },
  {
   "cell_type": "code",
   "execution_count": 7,
   "metadata": {},
   "outputs": [],
   "source": [
    "from sklearn.feature_extraction.text import TfidfVectorizer\n",
    "from sklearn.naive_bayes import MultinomialNB"
   ]
  },
  {
   "cell_type": "code",
   "execution_count": 8,
   "metadata": {},
   "outputs": [
    {
     "name": "stdout",
     "output_type": "stream",
     "text": [
      "(250874, 4701)\n",
      "(35918, 4701)\n"
     ]
    }
   ],
   "source": [
    "cv = TfidfVectorizer(binary=False, ngram_range=(1,1), max_df=.5, min_df=.001)\n",
    "text_data_train = cv.fit_transform(train['review'].tolist())\n",
    "text_data_valid = cv.transform(valid['review'].tolist())\n",
    "\n",
    "print(text_data_train.shape)\n",
    "print(text_data_valid.shape)"
   ]
  },
  {
   "cell_type": "code",
   "execution_count": 9,
   "metadata": {},
   "outputs": [
    {
     "name": "stderr",
     "output_type": "stream",
     "text": [
      "C:\\Users\\sujeong\\Anaconda3\\lib\\site-packages\\ipykernel_launcher.py:4: SettingWithCopyWarning: \n",
      "A value is trying to be set on a copy of a slice from a DataFrame.\n",
      "Try using .loc[row_indexer,col_indexer] = value instead\n",
      "\n",
      "See the caveats in the documentation: https://pandas.pydata.org/pandas-docs/stable/user_guide/indexing.html#returning-a-view-versus-a-copy\n",
      "  after removing the cwd from sys.path.\n"
     ]
    },
    {
     "data": {
      "image/png": "[encoded data removed]",
      "text/plain": [
       "<Figure size 720x432 with 1 Axes>"
      ]
     },
     "metadata": {},
     "output_type": "display_data"
    }
   ],
   "source": [
    "nb = MultinomialNB()\n",
    "nb.fit(text_data_train, train['label'])\n",
    "\n",
    "train['pred_nb'] = nb.predict_proba(text_data_train)[:,1]\n",
    "valid['pred_nb'] = nb.predict_proba(text_data_valid)[:,1]\n",
    "\n",
    "plot_pr(train['pred_nb'], train['label'], label='Naive Bayes Training')\n",
    "plot_pr(valid['pred_nb'], valid['label'], label='Naive Bayes Validation')"
   ]
  },
  {
   "cell_type": "markdown",
   "metadata": {},
   "source": [
    "#### ↓ Word2Vec using Gensim"
   ]
  },
  {
   "cell_type": "code",
   "execution_count": 10,
   "metadata": {},
   "outputs": [],
   "source": [
    "import gensim\n",
    "from gensim.models.doc2vec import Doc2Vec, TaggedDocument"
   ]
  },
  {
   "cell_type": "code",
   "execution_count": 11,
   "metadata": {},
   "outputs": [],
   "source": [
    "documents_train = [TaggedDocument(doc, [i]) for i, doc in enumerate(train['review'].str.split(\" \"))]"
   ]
  },
  {
   "cell_type": "code",
   "execution_count": 12,
   "metadata": {},
   "outputs": [],
   "source": [
    "d2v = Doc2Vec(documents_train, vector_size=32, window=2, min_count=100)"
   ]
  },
  {
   "cell_type": "code",
   "execution_count": 13,
   "metadata": {},
   "outputs": [],
   "source": [
    "d2v_df_train = train['review'].str.split(\" \").apply(lambda x: d2v.infer_vector(x)).apply(pd.Series)\n",
    "d2v_df_train.columns = ['d2v_' + str(x) for x in d2v_df_train.columns]"
   ]
  },
  {
   "cell_type": "code",
   "execution_count": 14,
   "metadata": {},
   "outputs": [],
   "source": [
    "d2v_df_valid = valid['review'].str.split(\" \").apply(lambda x: d2v.infer_vector(x)).apply(pd.Series)\n",
    "d2v_df_valid.columns = ['d2v_' + str(x) for x in d2v_df_valid.columns]"
   ]
  },
  {
   "cell_type": "markdown",
   "metadata": {},
   "source": [
    "#### ↓ Putting everything together"
   ]
  },
  {
   "cell_type": "code",
   "execution_count": 15,
   "metadata": {},
   "outputs": [],
   "source": [
    "train_features = ['rating', 'user_review_count', 'user_average_rating', 'restaurant_review_count', \n",
    "                  'restaurant_average_rating',\n",
    "                  'punctuation_count', 'wordcount', 'capitalization_count', 'letter_count',\n",
    "                  'days_since_first_user', 'days_since_first_restaurant']"
   ]
  },
  {
   "cell_type": "code",
   "execution_count": 16,
   "metadata": {},
   "outputs": [],
   "source": [
    "everything_train = pd.concat([train, d2v_df_train], axis=1)\n",
    "everything_valid = pd.concat([valid, d2v_df_valid], axis=1)"
   ]
  },
  {
   "cell_type": "markdown",
   "metadata": {},
   "source": [
    "### ↓ previously spammed or not"
   ]
  },
  {
   "cell_type": "code",
   "execution_count": 17,
   "metadata": {},
   "outputs": [],
   "source": [
    "everything_train['spammed'] = train.sort_values(['user_id','date']).groupby('user_id')['label'].cumsum() > 1\n",
    "\n",
    "train_spammers = everything_train[everything_train.spammed==True][['user_id', 'spammed']].drop_duplicates()\n",
    "everything_valid = everything_valid.merge(train_spammers, how='left', on='user_id')\n",
    "everything_valid['spammed'] = everything_valid['spammed'].fillna(False)"
   ]
  },
  {
   "cell_type": "code",
   "execution_count": 18,
   "metadata": {},
   "outputs": [
    {
     "data": {
      "text/plain": [
       "XGBClassifier(base_score=0.5, booster=None, colsample_bylevel=1,\n",
       "              colsample_bynode=1, colsample_bytree=1, gamma=0, gpu_id=-1,\n",
       "              importance_type='gain', interaction_constraints=None,\n",
       "              learning_rate=0.300000012, max_delta_step=0, max_depth=4,\n",
       "              min_child_weight=1, missing=nan, monotone_constraints=None,\n",
       "              n_estimators=100, n_jobs=0, num_parallel_tree=1,\n",
       "              objective='binary:logistic', random_state=42, reg_alpha=10,\n",
       "              reg_lambda=5, scale_pos_weight=8.716642782447035, subsample=1,\n",
       "              tree_method=None, validate_parameters=False, verbosity=None)"
      ]
     },
     "execution_count": 18,
     "metadata": {},
     "output_type": "execute_result"
    }
   ],
   "source": [
    "train_features = ['rating', 'user_review_count', 'user_average_rating', 'restaurant_review_count', \n",
    "                 'restaurant_average_rating',\n",
    "                 'punctuation_count', 'wordcount', 'capitalization_count', 'letter_count',\n",
    "                 'days_since_first_user', 'days_since_first_restaurant']\n",
    "\n",
    "y_train = train['label']\n",
    "pos_ratio = (len(y_train)-y_train.sum()) / y_train.sum()\n",
    "everything_features = train_features + ['pred_nb'] + d2v_df_train.columns.tolist() + ['spammed']\n",
    "\n",
    "everything_model = XGBClassifier(scale_pos_weight=pos_ratio, max_depth=4, reg_alpha=10, reg_lambda=5, random_state=42)\n",
    "everything_model.fit(everything_train[everything_features], y_train)"
   ]
  },
  {
   "cell_type": "code",
   "execution_count": 19,
   "metadata": {},
   "outputs": [
    {
     "name": "stderr",
     "output_type": "stream",
     "text": [
      "C:\\Users\\sujeong\\Anaconda3\\lib\\site-packages\\ipykernel_launcher.py:1: SettingWithCopyWarning: \n",
      "A value is trying to be set on a copy of a slice from a DataFrame.\n",
      "Try using .loc[row_indexer,col_indexer] = value instead\n",
      "\n",
      "See the caveats in the documentation: https://pandas.pydata.org/pandas-docs/stable/user_guide/indexing.html#returning-a-view-versus-a-copy\n",
      "  \"\"\"Entry point for launching an IPython kernel.\n"
     ]
    },
    {
     "data": {
      "image/png": "[encoded data removed]",
      "text/plain": [
       "<Figure size 720x432 with 1 Axes>"
      ]
     },
     "metadata": {},
     "output_type": "display_data"
    }
   ],
   "source": [
    "train['pred_id'] = everything_model.predict_proba(everything_train[everything_features])[:,1]\n",
    "valid['pred_id'] = everything_model.predict_proba(everything_valid[everything_features])[:,1]\n",
    "\n",
    "plot_pr(train['pred_id'], train['label'], label='Training')\n",
    "plot_pr(valid['pred_id'], valid['label'], label='Validation')"
   ]
  },
  {
   "cell_type": "markdown",
   "metadata": {},
   "source": [
    "### Test Set"
   ]
  },
  {
   "cell_type": "code",
   "execution_count": 20,
   "metadata": {},
   "outputs": [],
   "source": [
    "# load test set \n",
    "test_csv = pd.read_csv('test_no_label.csv').sort_values('ex_id')\n",
    "whole_csv = pd.concat([train_csv, test_csv], axis=0, ignore_index=True)"
   ]
  },
  {
   "cell_type": "code",
   "execution_count": 21,
   "metadata": {},
   "outputs": [],
   "source": [
    "# Apply preliminary_feature\n",
    "whole = preliminary_feature(whole_csv)\n",
    "test = whole[250874:].reset_index()"
   ]
  },
  {
   "cell_type": "code",
   "execution_count": 22,
   "metadata": {},
   "outputs": [],
   "source": [
    "# MNB prediction on test\n",
    "text_data_test = cv.transform(test['review'].tolist())\n",
    "test['pred_nb'] = nb.predict_proba(text_data_test)[:,1]"
   ]
  },
  {
   "cell_type": "code",
   "execution_count": 23,
   "metadata": {},
   "outputs": [],
   "source": [
    "# Word2Vec using Gensim\n",
    "d2v_df_test = test['review'].str.split(\" \").apply(lambda x: d2v.infer_vector(x)).apply(pd.Series)\n",
    "d2v_df_test.columns = ['d2v_' + str(x) for x in d2v_df_test.columns]"
   ]
  },
  {
   "cell_type": "code",
   "execution_count": 24,
   "metadata": {
    "scrolled": true
   },
   "outputs": [],
   "source": [
    "everything_test = pd.concat([test, d2v_df_test], axis=1)\n",
    "everything_test = everything_test.merge(train_spammers, how='left', on='user_id')\n",
    "everything_test['spammed'] = everything_test['spammed'].fillna(False)"
   ]
  },
  {
   "cell_type": "code",
   "execution_count": 25,
   "metadata": {},
   "outputs": [],
   "source": [
    "predictions = everything_model.predict(everything_test[everything_features], output_margin=True)"
   ]
  },
  {
   "cell_type": "code",
   "execution_count": 26,
   "metadata": {},
   "outputs": [],
   "source": [
    "pd.DataFrame(predictions).to_csv('predictions.csv', index=False, header=False)"
   ]
  },
  {
   "cell_type": "markdown",
   "metadata": {},
   "source": [
    "※ Appendix"
   ]
  },
  {
   "cell_type": "code",
   "execution_count": 27,
   "metadata": {},
   "outputs": [
    {
     "name": "stdout",
     "output_type": "stream",
     "text": [
      "number of ppl spam in training: 21006\n",
      "number of ppl not spam in training: 105074\n",
      "number of ppl spam n not spam: 401\n",
      "prop. of spammers who make fake review only: 0.98\n"
     ]
    }
   ],
   "source": [
    "from collections import Counter\n",
    "spammer = set(train[train.label==1].user_id)\n",
    "nonspammer = set(train[train.label==0].user_id)\n",
    "print(\"number of ppl spam in training:\", len(spammer))\n",
    "print(\"number of ppl not spam in training:\", len(nonspammer))\n",
    "print(\"number of ppl spam n not spam:\", len(spammer.intersection(nonspammer)))\n",
    "print(\"prop. of spammers who make fake review only:\", round((len(spammer)-len(spammer.intersection(nonspammer))) / len(spammer), 2))"
   ]
  }
 ],
 "metadata": {
  "kernelspec": {
   "display_name": "Python 3",
   "language": "python",
   "name": "python3"
  },
  "language_info": {
   "codemirror_mode": {
    "name": "ipython",
    "version": 3
   },
   "file_extension": ".py",
   "mimetype": "text/x-python",
   "name": "python",
   "nbconvert_exporter": "python",
   "pygments_lexer": "ipython3",
   "version": "3.7.3"
  }
 },
 "nbformat": 4,
 "nbformat_minor": 2
}
